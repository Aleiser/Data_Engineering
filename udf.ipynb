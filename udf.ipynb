{
 "cells": [
  {
   "cell_type": "code",
   "execution_count": null,
   "metadata": {},
   "outputs": [],
   "source": [
    "import pandas as pd\n",
    "from sklearn.calibration import LabelEncoder\n",
    "dataframe=pd.read_csv('listings.csv')\n",
    "\n",
    "def prepare_dataframe(df):\n",
    "   \n",
    "    df = df[['price', 'room_type', 'neighbourhood','minimum_nights','availability_365']]\n",
    "\n",
    "    missing_values = df.isna().sum()\n",
    "    if missing_values.sum() == 0:\n",
    "        print(\"No missing values found.\")\n",
    "    elif (missing_values > 0).any():\n",
    "        print(\"Missing values found:\\n\", missing_values[missing_values > 0])\n",
    "\n",
    "    categorical_cols = df.select_dtypes(include=['object']).columns\n",
    "    print(\"Categorical Columns:\", categorical_cols)\n",
    "    \n",
    "    import joblib\n",
    "    label_encoders = {}  \n",
    "    for col in categorical_cols:\n",
    "        le = LabelEncoder()\n",
    "        # df[col] = le.fit_transform(df[col]) + 1  \n",
    "        df.loc[:, col] = le.fit_transform(df[col]) + 1 \n",
    "        label_encoders[col] = le  \n",
    "    joblib.dump(label_encoders, 'label_encoders.pkl')\n",
    "    return df\n",
    "\n"
   ]
  }
 ],
 "metadata": {
  "kernelspec": {
   "display_name": "Python 3",
   "language": "python",
   "name": "python3"
  },
  "language_info": {
   "codemirror_mode": {
    "name": "ipython",
    "version": 3
   },
   "file_extension": ".py",
   "mimetype": "text/x-python",
   "name": "python",
   "nbconvert_exporter": "python",
   "pygments_lexer": "ipython3",
   "version": "3.11.0"
  }
 },
 "nbformat": 4,
 "nbformat_minor": 2
}
