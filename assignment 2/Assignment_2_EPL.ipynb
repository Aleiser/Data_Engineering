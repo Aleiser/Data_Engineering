{
 "cells": [
  {
   "cell_type": "markdown",
   "metadata": {},
   "source": [
    "English Premier League CSV  "
   ]
  },
  {
   "cell_type": "code",
   "execution_count": null,
   "metadata": {},
   "outputs": [],
   "source": [
    "import seaborn as sns\n",
    "import pandas as pd"
   ]
  },
  {
   "cell_type": "code",
   "execution_count": null,
   "metadata": {},
   "outputs": [],
   "source": [
    "df = pd.read_csv('England CSV.csv')"
   ]
  },
  {
   "cell_type": "markdown",
   "metadata": {},
   "source": [
    "| field_name   | description                 | data_type  |\n",
    "|--------------|-----------------------------|----------- |\n",
    "| Date         | Match date                  | nominal    |\n",
    "| Season       | Football season year        | nominal    |\n",
    "| HomeTeam     | Home team name              | nominal    |\n",
    "| AwayTeam     | Away team name              | nominal    |\n",
    "| FTH Goals    | Full-time home goals        | continuous |\n",
    "| FTA Goals    | Full-time away goals        | continuous |\n",
    "| FT Result    | Full-time match result      | nominal    |\n",
    "| HTH Goals    | Half-time home goals        | continuous |\n",
    "| HTA Goals    | Half-time away goals        | continuous |\n",
    "| HT Result    | Half-time match result      | nominal    |\n",
    "| Referee      | Match referee name          | nominal    |\n",
    "| H Shots      | Home team total shots       | continuous |\n",
    "| A Shots      | Away team total shots       | continuous |\n",
    "| H SOT        | Home team shots on target   | continuous |\n",
    "| A SOT        | Away team shots on target   | continuous |\n",
    "| H Fouls      | Home team fouls committed   | continuous |\n",
    "| A Fouls      | Away team fouls committed   | continuous |\n",
    "| H Corners    | Home team corner kicks      | continuous |\n",
    "| A Corners    | Away team corner kicks      | continuous |\n",
    "| H Yellow     | Home team yellow cards      | continuous |\n",
    "| A Yellow     | Away team yellow cards      | continuous |\n",
    "| H Red        | Home team red cards         | continuous |\n",
    "| A Red        | Away team red cards         | continuous |\n",
    "| Display_Order| Display order for records   | continuous |\n",
    "| League       | League name                 | nominal    |\n"
   ]
  }
 ],
 "metadata": {
  "kernelspec": {
   "display_name": "Python 3",
   "language": "python",
   "name": "python3"
  },
  "language_info": {
   "name": "python",
   "version": "3.12.2"
  }
 },
 "nbformat": 4,
 "nbformat_minor": 2
}
