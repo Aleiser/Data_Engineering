{
 "cells": [
  {
   "cell_type": "code",
   "execution_count": 139,
   "metadata": {},
   "outputs": [],
   "source": [
    "import pandas as pd\n",
    "import numpy as np\n",
    "# !pip install import-ipynb\n"
   ]
  },
  {
   "cell_type": "code",
   "execution_count": 111,
   "metadata": {},
   "outputs": [],
   "source": [
    "import import_ipynb"
   ]
  },
  {
   "cell_type": "markdown",
   "metadata": {},
   "source": [
    "Importing the file with UDF"
   ]
  },
  {
   "cell_type": "code",
   "execution_count": 112,
   "metadata": {},
   "outputs": [],
   "source": [
    "from udf import prepare_dataframe"
   ]
  },
  {
   "cell_type": "markdown",
   "metadata": {},
   "source": [
    "Importing the live data dataset"
   ]
  },
  {
   "cell_type": "code",
   "execution_count": 113,
   "metadata": {},
   "outputs": [
    {
     "data": {
      "text/html": [
       "<div>\n",
       "<style scoped>\n",
       "    .dataframe tbody tr th:only-of-type {\n",
       "        vertical-align: middle;\n",
       "    }\n",
       "\n",
       "    .dataframe tbody tr th {\n",
       "        vertical-align: top;\n",
       "    }\n",
       "\n",
       "    .dataframe thead th {\n",
       "        text-align: right;\n",
       "    }\n",
       "</style>\n",
       "<table border=\"1\" class=\"dataframe\">\n",
       "  <thead>\n",
       "    <tr style=\"text-align: right;\">\n",
       "      <th></th>\n",
       "      <th>name</th>\n",
       "      <th>host_id</th>\n",
       "      <th>host_name</th>\n",
       "      <th>neighbourhood_group</th>\n",
       "      <th>neighbourhood</th>\n",
       "      <th>latitude</th>\n",
       "      <th>longitude</th>\n",
       "      <th>room_type</th>\n",
       "      <th>price</th>\n",
       "      <th>minimum_nights</th>\n",
       "      <th>number_of_reviews</th>\n",
       "      <th>last_review</th>\n",
       "      <th>reviews_per_month</th>\n",
       "      <th>calculated_host_listings_count</th>\n",
       "      <th>availability_365</th>\n",
       "    </tr>\n",
       "    <tr>\n",
       "      <th>id</th>\n",
       "      <th></th>\n",
       "      <th></th>\n",
       "      <th></th>\n",
       "      <th></th>\n",
       "      <th></th>\n",
       "      <th></th>\n",
       "      <th></th>\n",
       "      <th></th>\n",
       "      <th></th>\n",
       "      <th></th>\n",
       "      <th></th>\n",
       "      <th></th>\n",
       "      <th></th>\n",
       "      <th></th>\n",
       "      <th></th>\n",
       "    </tr>\n",
       "  </thead>\n",
       "  <tbody>\n",
       "    <tr>\n",
       "      <th>40182247</th>\n",
       "      <td>3 bdrm; free internet in pilsen/southloop</td>\n",
       "      <td>306943744</td>\n",
       "      <td>Joe</td>\n",
       "      <td>NaN</td>\n",
       "      <td>Lower West Side</td>\n",
       "      <td>41.85974</td>\n",
       "      <td>-87.65797</td>\n",
       "      <td>Entire home/apt</td>\n",
       "      <td>200</td>\n",
       "      <td>1</td>\n",
       "      <td>1</td>\n",
       "      <td>2020-02-17</td>\n",
       "      <td>0.14</td>\n",
       "      <td>8</td>\n",
       "      <td>365</td>\n",
       "    </tr>\n",
       "    <tr>\n",
       "      <th>45438479</th>\n",
       "      <td>English Lavender Room</td>\n",
       "      <td>258297883</td>\n",
       "      <td>Darkhan</td>\n",
       "      <td>NaN</td>\n",
       "      <td>Humboldt Park</td>\n",
       "      <td>41.88866</td>\n",
       "      <td>-87.71965</td>\n",
       "      <td>Private room</td>\n",
       "      <td>44</td>\n",
       "      <td>1</td>\n",
       "      <td>0</td>\n",
       "      <td>NaN</td>\n",
       "      <td>NaN</td>\n",
       "      <td>3</td>\n",
       "      <td>1</td>\n",
       "    </tr>\n",
       "    <tr>\n",
       "      <th>39793384</th>\n",
       "      <td>ROWULA HOUSE - WARM AFRICAN HOSPITALITY IN CHI...</td>\n",
       "      <td>13784535</td>\n",
       "      <td>Omar</td>\n",
       "      <td>NaN</td>\n",
       "      <td>South Chicago</td>\n",
       "      <td>41.73711</td>\n",
       "      <td>-87.54816</td>\n",
       "      <td>Private room</td>\n",
       "      <td>45</td>\n",
       "      <td>1</td>\n",
       "      <td>1</td>\n",
       "      <td>2020-08-31</td>\n",
       "      <td>1.00</td>\n",
       "      <td>1</td>\n",
       "      <td>357</td>\n",
       "    </tr>\n",
       "    <tr>\n",
       "      <th>35942729</th>\n",
       "      <td>Spacious Sedgwick Condo - Steps to Old Town</td>\n",
       "      <td>200416010</td>\n",
       "      <td>Saul</td>\n",
       "      <td>NaN</td>\n",
       "      <td>Near North Side</td>\n",
       "      <td>41.91054</td>\n",
       "      <td>-87.63743</td>\n",
       "      <td>Entire home/apt</td>\n",
       "      <td>255</td>\n",
       "      <td>3</td>\n",
       "      <td>11</td>\n",
       "      <td>2020-09-07</td>\n",
       "      <td>1.09</td>\n",
       "      <td>6</td>\n",
       "      <td>342</td>\n",
       "    </tr>\n",
       "    <tr>\n",
       "      <th>1468342</th>\n",
       "      <td>Quaint Serenity in Bronzeville</td>\n",
       "      <td>4081052</td>\n",
       "      <td>Suzetta</td>\n",
       "      <td>NaN</td>\n",
       "      <td>Grand Boulevard</td>\n",
       "      <td>41.81266</td>\n",
       "      <td>-87.61586</td>\n",
       "      <td>Private room</td>\n",
       "      <td>55</td>\n",
       "      <td>2</td>\n",
       "      <td>123</td>\n",
       "      <td>2020-02-16</td>\n",
       "      <td>1.42</td>\n",
       "      <td>1</td>\n",
       "      <td>364</td>\n",
       "    </tr>\n",
       "  </tbody>\n",
       "</table>\n",
       "</div>"
      ],
      "text/plain": [
       "                                                       name    host_id  \\\n",
       "id                                                                       \n",
       "40182247          3 bdrm; free internet in pilsen/southloop  306943744   \n",
       "45438479                              English Lavender Room  258297883   \n",
       "39793384  ROWULA HOUSE - WARM AFRICAN HOSPITALITY IN CHI...   13784535   \n",
       "35942729        Spacious Sedgwick Condo - Steps to Old Town  200416010   \n",
       "1468342                      Quaint Serenity in Bronzeville    4081052   \n",
       "\n",
       "         host_name  neighbourhood_group    neighbourhood  latitude  longitude  \\\n",
       "id                                                                              \n",
       "40182247       Joe                  NaN  Lower West Side  41.85974  -87.65797   \n",
       "45438479   Darkhan                  NaN    Humboldt Park  41.88866  -87.71965   \n",
       "39793384      Omar                  NaN    South Chicago  41.73711  -87.54816   \n",
       "35942729      Saul                  NaN  Near North Side  41.91054  -87.63743   \n",
       "1468342    Suzetta                  NaN  Grand Boulevard  41.81266  -87.61586   \n",
       "\n",
       "                room_type  price  minimum_nights  number_of_reviews  \\\n",
       "id                                                                    \n",
       "40182247  Entire home/apt    200               1                  1   \n",
       "45438479     Private room     44               1                  0   \n",
       "39793384     Private room     45               1                  1   \n",
       "35942729  Entire home/apt    255               3                 11   \n",
       "1468342      Private room     55               2                123   \n",
       "\n",
       "         last_review  reviews_per_month  calculated_host_listings_count  \\\n",
       "id                                                                        \n",
       "40182247  2020-02-17               0.14                               8   \n",
       "45438479         NaN                NaN                               3   \n",
       "39793384  2020-08-31               1.00                               1   \n",
       "35942729  2020-09-07               1.09                               6   \n",
       "1468342   2020-02-16               1.42                               1   \n",
       "\n",
       "          availability_365  \n",
       "id                          \n",
       "40182247               365  \n",
       "45438479                 1  \n",
       "39793384               357  \n",
       "35942729               342  \n",
       "1468342                364  "
      ]
     },
     "execution_count": 113,
     "metadata": {},
     "output_type": "execute_result"
    }
   ],
   "source": [
    "live_data=pd.read_csv(\"live_data.csv\",index_col=\"id\")\n",
    "df=live_data\n",
    "df.head()"
   ]
  },
  {
   "cell_type": "markdown",
   "metadata": {},
   "source": [
    "### USING THE USER DEFINED FUNCTIONS STORED IN UDF FILE TO PREPARE DATASET"
   ]
  },
  {
   "cell_type": "code",
   "execution_count": 125,
   "metadata": {},
   "outputs": [
    {
     "name": "stdout",
     "output_type": "stream",
     "text": [
      "No missing values found.\n",
      "Categorical Columns: Index(['room_type', 'neighbourhood'], dtype='object')\n"
     ]
    }
   ],
   "source": [
    "df=prepare_dataframe(df)"
   ]
  },
  {
   "cell_type": "code",
   "execution_count": 126,
   "metadata": {},
   "outputs": [
    {
     "data": {
      "text/html": [
       "<div>\n",
       "<style scoped>\n",
       "    .dataframe tbody tr th:only-of-type {\n",
       "        vertical-align: middle;\n",
       "    }\n",
       "\n",
       "    .dataframe tbody tr th {\n",
       "        vertical-align: top;\n",
       "    }\n",
       "\n",
       "    .dataframe thead th {\n",
       "        text-align: right;\n",
       "    }\n",
       "</style>\n",
       "<table border=\"1\" class=\"dataframe\">\n",
       "  <thead>\n",
       "    <tr style=\"text-align: right;\">\n",
       "      <th></th>\n",
       "      <th>price</th>\n",
       "      <th>room_type</th>\n",
       "      <th>neighbourhood</th>\n",
       "      <th>minimum_nights</th>\n",
       "      <th>availability_365</th>\n",
       "    </tr>\n",
       "    <tr>\n",
       "      <th>id</th>\n",
       "      <th></th>\n",
       "      <th></th>\n",
       "      <th></th>\n",
       "      <th></th>\n",
       "      <th></th>\n",
       "    </tr>\n",
       "  </thead>\n",
       "  <tbody>\n",
       "    <tr>\n",
       "      <th>40182247</th>\n",
       "      <td>200</td>\n",
       "      <td>1</td>\n",
       "      <td>16</td>\n",
       "      <td>0.000000</td>\n",
       "      <td>1.000000</td>\n",
       "    </tr>\n",
       "    <tr>\n",
       "      <th>45438479</th>\n",
       "      <td>44</td>\n",
       "      <td>3</td>\n",
       "      <td>8</td>\n",
       "      <td>0.000000</td>\n",
       "      <td>0.002740</td>\n",
       "    </tr>\n",
       "    <tr>\n",
       "      <th>39793384</th>\n",
       "      <td>45</td>\n",
       "      <td>3</td>\n",
       "      <td>23</td>\n",
       "      <td>0.000000</td>\n",
       "      <td>0.978082</td>\n",
       "    </tr>\n",
       "    <tr>\n",
       "      <th>35942729</th>\n",
       "      <td>255</td>\n",
       "      <td>1</td>\n",
       "      <td>17</td>\n",
       "      <td>0.005495</td>\n",
       "      <td>0.936986</td>\n",
       "    </tr>\n",
       "    <tr>\n",
       "      <th>1468342</th>\n",
       "      <td>55</td>\n",
       "      <td>3</td>\n",
       "      <td>7</td>\n",
       "      <td>0.002747</td>\n",
       "      <td>0.997260</td>\n",
       "    </tr>\n",
       "  </tbody>\n",
       "</table>\n",
       "</div>"
      ],
      "text/plain": [
       "          price room_type neighbourhood  minimum_nights  availability_365\n",
       "id                                                                       \n",
       "40182247    200         1            16        0.000000          1.000000\n",
       "45438479     44         3             8        0.000000          0.002740\n",
       "39793384     45         3            23        0.000000          0.978082\n",
       "35942729    255         1            17        0.005495          0.936986\n",
       "1468342      55         3             7        0.002747          0.997260"
      ]
     },
     "execution_count": 126,
     "metadata": {},
     "output_type": "execute_result"
    }
   ],
   "source": [
    "df.head()"
   ]
  },
  {
   "cell_type": "markdown",
   "metadata": {},
   "source": [
    "Loading the best model that we saved earlier in .pkl file"
   ]
  },
  {
   "cell_type": "code",
   "execution_count": 127,
   "metadata": {},
   "outputs": [],
   "source": [
    "import joblib\n",
    "\n",
    "model = joblib.load(\"best_airbnb_model.pkl\")"
   ]
  },
  {
   "cell_type": "markdown",
   "metadata": {},
   "source": [
    "calculating the price based on the availability of the airbnb and adding it into the dataset"
   ]
  },
  {
   "cell_type": "code",
   "execution_count": 128,
   "metadata": {},
   "outputs": [],
   "source": [
    "df['price_per_available_day'] = df['price'] / (df['availability_365'] + 1)  "
   ]
  },
  {
   "cell_type": "code",
   "execution_count": 129,
   "metadata": {},
   "outputs": [
    {
     "data": {
      "text/html": [
       "<div>\n",
       "<style scoped>\n",
       "    .dataframe tbody tr th:only-of-type {\n",
       "        vertical-align: middle;\n",
       "    }\n",
       "\n",
       "    .dataframe tbody tr th {\n",
       "        vertical-align: top;\n",
       "    }\n",
       "\n",
       "    .dataframe thead th {\n",
       "        text-align: right;\n",
       "    }\n",
       "</style>\n",
       "<table border=\"1\" class=\"dataframe\">\n",
       "  <thead>\n",
       "    <tr style=\"text-align: right;\">\n",
       "      <th></th>\n",
       "      <th>price</th>\n",
       "      <th>room_type</th>\n",
       "      <th>neighbourhood</th>\n",
       "      <th>minimum_nights</th>\n",
       "      <th>availability_365</th>\n",
       "      <th>price_per_available_day</th>\n",
       "    </tr>\n",
       "    <tr>\n",
       "      <th>id</th>\n",
       "      <th></th>\n",
       "      <th></th>\n",
       "      <th></th>\n",
       "      <th></th>\n",
       "      <th></th>\n",
       "      <th></th>\n",
       "    </tr>\n",
       "  </thead>\n",
       "  <tbody>\n",
       "    <tr>\n",
       "      <th>40182247</th>\n",
       "      <td>200</td>\n",
       "      <td>1</td>\n",
       "      <td>16</td>\n",
       "      <td>0.000000</td>\n",
       "      <td>1.000000</td>\n",
       "      <td>100.000000</td>\n",
       "    </tr>\n",
       "    <tr>\n",
       "      <th>45438479</th>\n",
       "      <td>44</td>\n",
       "      <td>3</td>\n",
       "      <td>8</td>\n",
       "      <td>0.000000</td>\n",
       "      <td>0.002740</td>\n",
       "      <td>43.879781</td>\n",
       "    </tr>\n",
       "    <tr>\n",
       "      <th>39793384</th>\n",
       "      <td>45</td>\n",
       "      <td>3</td>\n",
       "      <td>23</td>\n",
       "      <td>0.000000</td>\n",
       "      <td>0.978082</td>\n",
       "      <td>22.749307</td>\n",
       "    </tr>\n",
       "    <tr>\n",
       "      <th>35942729</th>\n",
       "      <td>255</td>\n",
       "      <td>1</td>\n",
       "      <td>17</td>\n",
       "      <td>0.005495</td>\n",
       "      <td>0.936986</td>\n",
       "      <td>131.647808</td>\n",
       "    </tr>\n",
       "    <tr>\n",
       "      <th>1468342</th>\n",
       "      <td>55</td>\n",
       "      <td>3</td>\n",
       "      <td>7</td>\n",
       "      <td>0.002747</td>\n",
       "      <td>0.997260</td>\n",
       "      <td>27.537723</td>\n",
       "    </tr>\n",
       "  </tbody>\n",
       "</table>\n",
       "</div>"
      ],
      "text/plain": [
       "          price room_type neighbourhood  minimum_nights  availability_365  \\\n",
       "id                                                                          \n",
       "40182247    200         1            16        0.000000          1.000000   \n",
       "45438479     44         3             8        0.000000          0.002740   \n",
       "39793384     45         3            23        0.000000          0.978082   \n",
       "35942729    255         1            17        0.005495          0.936986   \n",
       "1468342      55         3             7        0.002747          0.997260   \n",
       "\n",
       "          price_per_available_day  \n",
       "id                                 \n",
       "40182247               100.000000  \n",
       "45438479                43.879781  \n",
       "39793384                22.749307  \n",
       "35942729               131.647808  \n",
       "1468342                 27.537723  "
      ]
     },
     "execution_count": 129,
     "metadata": {},
     "output_type": "execute_result"
    }
   ],
   "source": [
    "df.head()"
   ]
  },
  {
   "cell_type": "markdown",
   "metadata": {},
   "source": [
    "Transforming , scaling features to provide a proper range for a better output "
   ]
  },
  {
   "cell_type": "code",
   "execution_count": 130,
   "metadata": {},
   "outputs": [
    {
     "data": {
      "text/html": [
       "<div>\n",
       "<style scoped>\n",
       "    .dataframe tbody tr th:only-of-type {\n",
       "        vertical-align: middle;\n",
       "    }\n",
       "\n",
       "    .dataframe tbody tr th {\n",
       "        vertical-align: top;\n",
       "    }\n",
       "\n",
       "    .dataframe thead th {\n",
       "        text-align: right;\n",
       "    }\n",
       "</style>\n",
       "<table border=\"1\" class=\"dataframe\">\n",
       "  <thead>\n",
       "    <tr style=\"text-align: right;\">\n",
       "      <th></th>\n",
       "      <th>price</th>\n",
       "      <th>room_type</th>\n",
       "      <th>neighbourhood</th>\n",
       "      <th>minimum_nights</th>\n",
       "      <th>availability_365</th>\n",
       "      <th>price_per_available_day</th>\n",
       "    </tr>\n",
       "    <tr>\n",
       "      <th>id</th>\n",
       "      <th></th>\n",
       "      <th></th>\n",
       "      <th></th>\n",
       "      <th></th>\n",
       "      <th></th>\n",
       "      <th></th>\n",
       "    </tr>\n",
       "  </thead>\n",
       "  <tbody>\n",
       "    <tr>\n",
       "      <th>40182247</th>\n",
       "      <td>200</td>\n",
       "      <td>1</td>\n",
       "      <td>16</td>\n",
       "      <td>0.000000</td>\n",
       "      <td>1.000000</td>\n",
       "      <td>0.156860</td>\n",
       "    </tr>\n",
       "    <tr>\n",
       "      <th>45438479</th>\n",
       "      <td>44</td>\n",
       "      <td>3</td>\n",
       "      <td>8</td>\n",
       "      <td>0.000000</td>\n",
       "      <td>0.002740</td>\n",
       "      <td>0.051711</td>\n",
       "    </tr>\n",
       "    <tr>\n",
       "      <th>39793384</th>\n",
       "      <td>45</td>\n",
       "      <td>3</td>\n",
       "      <td>23</td>\n",
       "      <td>0.000000</td>\n",
       "      <td>0.978082</td>\n",
       "      <td>0.012120</td>\n",
       "    </tr>\n",
       "    <tr>\n",
       "      <th>35942729</th>\n",
       "      <td>255</td>\n",
       "      <td>1</td>\n",
       "      <td>17</td>\n",
       "      <td>0.005495</td>\n",
       "      <td>0.936986</td>\n",
       "      <td>0.216157</td>\n",
       "    </tr>\n",
       "    <tr>\n",
       "      <th>1468342</th>\n",
       "      <td>55</td>\n",
       "      <td>3</td>\n",
       "      <td>7</td>\n",
       "      <td>0.002747</td>\n",
       "      <td>0.997260</td>\n",
       "      <td>0.021092</td>\n",
       "    </tr>\n",
       "  </tbody>\n",
       "</table>\n",
       "</div>"
      ],
      "text/plain": [
       "          price room_type neighbourhood  minimum_nights  availability_365  \\\n",
       "id                                                                          \n",
       "40182247    200         1            16        0.000000          1.000000   \n",
       "45438479     44         3             8        0.000000          0.002740   \n",
       "39793384     45         3            23        0.000000          0.978082   \n",
       "35942729    255         1            17        0.005495          0.936986   \n",
       "1468342      55         3             7        0.002747          0.997260   \n",
       "\n",
       "          price_per_available_day  \n",
       "id                                 \n",
       "40182247                 0.156860  \n",
       "45438479                 0.051711  \n",
       "39793384                 0.012120  \n",
       "35942729                 0.216157  \n",
       "1468342                  0.021092  "
      ]
     },
     "execution_count": 130,
     "metadata": {},
     "output_type": "execute_result"
    }
   ],
   "source": [
    "from sklearn.preprocessing import MinMaxScaler\n",
    "\n",
    "scaler = MinMaxScaler()\n",
    "df[['price_per_available_day', 'minimum_nights', 'availability_365']] = scaler.fit_transform(df[['price_per_available_day', 'minimum_nights', 'availability_365']])\n",
    "df.head()"
   ]
  },
  {
   "cell_type": "markdown",
   "metadata": {},
   "source": [
    "Calculating the predicted price based on the previous model on the live data "
   ]
  },
  {
   "cell_type": "code",
   "execution_count": 131,
   "metadata": {},
   "outputs": [],
   "source": [
    "df['predicted_price'] = model.predict(df.drop(columns=['price']))"
   ]
  },
  {
   "cell_type": "markdown",
   "metadata": {},
   "source": [
    "Displaying the predicted price"
   ]
  },
  {
   "cell_type": "code",
   "execution_count": 132,
   "metadata": {},
   "outputs": [
    {
     "data": {
      "text/html": [
       "<div>\n",
       "<style scoped>\n",
       "    .dataframe tbody tr th:only-of-type {\n",
       "        vertical-align: middle;\n",
       "    }\n",
       "\n",
       "    .dataframe tbody tr th {\n",
       "        vertical-align: top;\n",
       "    }\n",
       "\n",
       "    .dataframe thead th {\n",
       "        text-align: right;\n",
       "    }\n",
       "</style>\n",
       "<table border=\"1\" class=\"dataframe\">\n",
       "  <thead>\n",
       "    <tr style=\"text-align: right;\">\n",
       "      <th></th>\n",
       "      <th>price</th>\n",
       "      <th>room_type</th>\n",
       "      <th>neighbourhood</th>\n",
       "      <th>minimum_nights</th>\n",
       "      <th>availability_365</th>\n",
       "      <th>price_per_available_day</th>\n",
       "      <th>predicted_price</th>\n",
       "    </tr>\n",
       "    <tr>\n",
       "      <th>id</th>\n",
       "      <th></th>\n",
       "      <th></th>\n",
       "      <th></th>\n",
       "      <th></th>\n",
       "      <th></th>\n",
       "      <th></th>\n",
       "      <th></th>\n",
       "    </tr>\n",
       "  </thead>\n",
       "  <tbody>\n",
       "    <tr>\n",
       "      <th>40182247</th>\n",
       "      <td>200</td>\n",
       "      <td>1</td>\n",
       "      <td>16</td>\n",
       "      <td>0.000000</td>\n",
       "      <td>1.000000</td>\n",
       "      <td>0.156860</td>\n",
       "      <td>9598.411239</td>\n",
       "    </tr>\n",
       "    <tr>\n",
       "      <th>45438479</th>\n",
       "      <td>44</td>\n",
       "      <td>3</td>\n",
       "      <td>8</td>\n",
       "      <td>0.000000</td>\n",
       "      <td>0.002740</td>\n",
       "      <td>0.051711</td>\n",
       "      <td>123.928597</td>\n",
       "    </tr>\n",
       "    <tr>\n",
       "      <th>39793384</th>\n",
       "      <td>45</td>\n",
       "      <td>3</td>\n",
       "      <td>23</td>\n",
       "      <td>0.000000</td>\n",
       "      <td>0.978082</td>\n",
       "      <td>0.012120</td>\n",
       "      <td>6931.371334</td>\n",
       "    </tr>\n",
       "    <tr>\n",
       "      <th>35942729</th>\n",
       "      <td>255</td>\n",
       "      <td>1</td>\n",
       "      <td>17</td>\n",
       "      <td>0.005495</td>\n",
       "      <td>0.936986</td>\n",
       "      <td>0.216157</td>\n",
       "      <td>9589.570365</td>\n",
       "    </tr>\n",
       "    <tr>\n",
       "      <th>1468342</th>\n",
       "      <td>55</td>\n",
       "      <td>3</td>\n",
       "      <td>7</td>\n",
       "      <td>0.002747</td>\n",
       "      <td>0.997260</td>\n",
       "      <td>0.021092</td>\n",
       "      <td>10403.301636</td>\n",
       "    </tr>\n",
       "  </tbody>\n",
       "</table>\n",
       "</div>"
      ],
      "text/plain": [
       "          price room_type neighbourhood  minimum_nights  availability_365  \\\n",
       "id                                                                          \n",
       "40182247    200         1            16        0.000000          1.000000   \n",
       "45438479     44         3             8        0.000000          0.002740   \n",
       "39793384     45         3            23        0.000000          0.978082   \n",
       "35942729    255         1            17        0.005495          0.936986   \n",
       "1468342      55         3             7        0.002747          0.997260   \n",
       "\n",
       "          price_per_available_day  predicted_price  \n",
       "id                                                  \n",
       "40182247                 0.156860      9598.411239  \n",
       "45438479                 0.051711       123.928597  \n",
       "39793384                 0.012120      6931.371334  \n",
       "35942729                 0.216157      9589.570365  \n",
       "1468342                  0.021092     10403.301636  "
      ]
     },
     "execution_count": 132,
     "metadata": {},
     "output_type": "execute_result"
    }
   ],
   "source": [
    "df.head()"
   ]
  },
  {
   "cell_type": "markdown",
   "metadata": {},
   "source": [
    "Displaying MAE , MSE and R2 for further evaluations."
   ]
  },
  {
   "cell_type": "code",
   "execution_count": 133,
   "metadata": {},
   "outputs": [
    {
     "name": "stdout",
     "output_type": "stream",
     "text": [
      "Mean Absolute Error: 4820.9586114785725\n",
      "Root Mean Squared Error: 6329.563012281626\n",
      "R-squared: -3309.336437950047\n"
     ]
    }
   ],
   "source": [
    "\n",
    "from sklearn.metrics import mean_absolute_error, root_mean_squared_error,r2_score\n",
    "\n",
    "\n",
    "y_true = df['price']  # Actual prices\n",
    "y_pred = df['predicted_price']  # Predicted prices\n",
    "\n",
    "# Calculating MAE, MSE, and R^2\n",
    "mae = mean_absolute_error(y_true, y_pred)\n",
    "mse = root_mean_squared_error(y_true, y_pred)\n",
    "r2 = r2_score(y_true, y_pred)\n",
    "\n",
    "# Printing the results\n",
    "print(f\"Mean Absolute Error: {mae}\")\n",
    "print(f\"Root Mean Squared Error: {mse}\")\n",
    "print(f\"R-squared: {r2}\")\n"
   ]
  },
  {
   "cell_type": "markdown",
   "metadata": {},
   "source": [
    "Appending the predicted price into the csv file"
   ]
  },
  {
   "cell_type": "code",
   "execution_count": 137,
   "metadata": {},
   "outputs": [],
   "source": [
    "df.to_csv('live_data.csv')"
   ]
  },
  {
   "attachments": {
    "image.png": {
     "image/png": "[encoded data removed]"
    }
   },
   "cell_type": "markdown",
   "metadata": {},
   "source": [
    "![image.png](attachment:image.png)"
   ]
  },
  {
   "cell_type": "markdown",
   "metadata": {},
   "source": [
    "Adding the table with predicted price into the databse"
   ]
  },
  {
   "cell_type": "code",
   "execution_count": 134,
   "metadata": {},
   "outputs": [
    {
     "data": {
      "text/plain": [
       "100"
      ]
     },
     "execution_count": 134,
     "metadata": {},
     "output_type": "execute_result"
    }
   ],
   "source": [
    "from sqlalchemy import create_engine\n",
    "\n",
    "host = r'127.0.0.1' \n",
    "db = r'MSDS610' \n",
    "user = r'postgres' \n",
    "pw = r'smooth' \n",
    "port = r'5432'\n",
    "schema = r'raw'\n",
    "\n",
    "db_conn = create_engine(\"postgresql://{}:{}@{}:{}/{}\".format(user, pw, host, port, db))\n",
    "\n",
    "table_name = r'airbnb_predicted_price'\n",
    "schema = r'raw' \n",
    "\n",
    "df.to_sql(table_name, db_conn, if_exists='replace', index=False,schema='raw')"
   ]
  },
  {
   "cell_type": "markdown",
   "metadata": {},
   "source": [
    "![\n",
    "](attachment:image.png)"
   ]
  },
  {
   "cell_type": "markdown",
   "metadata": {},
   "source": [
    "## Insights \n",
    "\n",
    "The gradient boosting model that was selected as the best model showed a significant difference between the validation set and live dataset.\n",
    "\n",
    "### During validation \n",
    "\n",
    "Linear Regression showed high MAE and RMSe along with a very low R2 score. This is a sign of underfitting.\n",
    "\n",
    "Decision Tree shows good performance with low MAE and RMSE with a high R2 score. This was able to model the data properly.\n",
    "\n",
    "Randon Forest also showed better results with low MAE and RMSE and a high R2 score. \n",
    "\n",
    "Gradient Boosting have a good result but the R2 score was highest for this model and it was most effective on the validation set .\n",
    "\n",
    "### Analysis for Live Dataset \n",
    "\n",
    "While performing on this dataset , gradient boosting showed a poor performance with a negative R2 score of around -5 . The MAE and MSE are also much higher than the validation results. This shows that the model is underperforming and may be overfitting to the training data.\n",
    "\n",
    "Gradient boosting may have overfitted to the validation set capturing noise which was not good for new data. Since the live data had very low data comparitively , there could have been improper distribution of as well. i myself found a hard time in feature engineering , creating 4 features to and dropping back to one. This could be another reason. \n"
   ]
  },
  {
   "cell_type": "markdown",
   "metadata": {},
   "source": [
    "## Reflection\n",
    "\n",
    "This project was kinda medium level but it was pretty much fun. With all the things i'm going through , which is still going on with my I'd say doing this with proper mental health was kindof the hardest thing for me. About the project itself, i enjoyed every bit of it. The best thing was to write the code and hit the run and boom ! it works in a single go but the frustating thing was also the same ; being stuck in the same error for some time. The frustation that you get when chat gpt even cant answer your problem and you search the whole of stack overflow to find the solution . \n",
    "I actually wanted to use pycaret to decide between the models but since i have python 3.12 and pycaret only works on older version I had to do a lot of things and finally I was like okay do go for a different approach. \n",
    "\n",
    "The main problem that I faced was during feature engineering. At start i went on with 4 new features but the models said ' You are wrong\" and i had to make so many changes and ended up with only one logical feature that I myself was feeling good about. But the fun thing was being in group call with others and everyone being stuck in similar problems.\n",
    "\n",
    "After this project I feel a lot confident and have the feeling that I can deploy a model to production with a little assistance. Everything was finally making the perfect sense to me and each and every steps of the programming part was a chance to learn new things. The best thing that i learnt was to use the for loop and do use every model at once instead op making multiple different block of codes. "
   ]
  },
  {
   "cell_type": "markdown",
   "metadata": {},
   "source": []
  }
 ],
 "metadata": {
  "kernelspec": {
   "display_name": "Python 3",
   "language": "python",
   "name": "python3"
  },
  "language_info": {
   "codemirror_mode": {
    "name": "ipython",
    "version": 3
   },
   "file_extension": ".py",
   "mimetype": "text/x-python",
   "name": "python",
   "nbconvert_exporter": "python",
   "pygments_lexer": "ipython3",
   "version": "3.11.0"
  }
 },
 "nbformat": 4,
 "nbformat_minor": 2
}
